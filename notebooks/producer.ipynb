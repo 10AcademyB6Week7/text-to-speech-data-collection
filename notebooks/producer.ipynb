{
 "cells": [
  {
   "cell_type": "code",
   "execution_count": 3,
   "metadata": {},
   "outputs": [],
   "source": [
    "import sys\n",
    "import os\n",
    "from json import dumps, loads\n",
    "sys.path.append(os.path.abspath(os.path.join('../scripts')))\n",
    "import sys\n",
    "import os\n",
    "sys.path.insert(0, '../scripts/')\n",
    "sys.path.insert(0, '../logs/')\n",
    "sys.path.append(os.path.abspath(os.path.join('..')))\n",
    "from logger import App_Logger\n",
    "from kafka_python_client import KafkaClient"
   ]
  },
  {
   "cell_type": "code",
   "execution_count": 10,
   "metadata": {},
   "outputs": [
    {
     "name": "stdout",
     "output_type": "stream",
     "text": [
      "\t1 - localhost:8007\n",
      "\t2 - localhost:9093\n",
      "\t3 - localhost:9094\n"
     ]
    }
   ],
   "source": [
    "kf_client = KafkaClient(\n",
    "    'group2',\n",
    "    [\n",
    "        'localhost:8007',\n",
    "        'localhost:9093',\n",
    "        'localhost:9094'\n",
    "    ]\n",
    ")"
   ]
  },
  {
   "cell_type": "code",
   "execution_count": 11,
   "metadata": {},
   "outputs": [],
   "source": [
    "kf_client.create_admin_client()"
   ]
  },
  {
   "cell_type": "code",
   "execution_count": 12,
   "metadata": {},
   "outputs": [
    {
     "name": "stdout",
     "output_type": "stream",
     "text": [
      "None\n"
     ]
    }
   ],
   "source": [
    "print(kf_client.get_topics())"
   ]
  },
  {
   "cell_type": "code",
   "execution_count": null,
   "metadata": {},
   "outputs": [],
   "source": []
  },
  {
   "cell_type": "code",
   "execution_count": null,
   "metadata": {},
   "outputs": [],
   "source": []
  },
  {
   "cell_type": "code",
   "execution_count": null,
   "metadata": {},
   "outputs": [],
   "source": []
  }
 ],
 "metadata": {
  "kernelspec": {
   "display_name": "Python 3.8.10 64-bit",
   "language": "python",
   "name": "python3"
  },
  "language_info": {
   "codemirror_mode": {
    "name": "ipython",
    "version": 3
   },
   "file_extension": ".py",
   "mimetype": "text/x-python",
   "name": "python",
   "nbconvert_exporter": "python",
   "pygments_lexer": "ipython3",
   "version": "3.8.10"
  },
  "orig_nbformat": 4,
  "vscode": {
   "interpreter": {
    "hash": "892b1dbae191cb403baa4bf29e539705d2bb168fb9a756bde180b5b738f682b9"
   }
  }
 },
 "nbformat": 4,
 "nbformat_minor": 2
}
